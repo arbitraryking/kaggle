{
 "cells": [
  {
   "cell_type": "code",
   "execution_count": 1,
   "id": "73158c35",
   "metadata": {
    "_cell_guid": "b1076dfc-b9ad-4769-8c92-a6c4dae69d19",
    "_uuid": "8f2839f25d086af736a60e9eeb907d3b93b6e0e5",
    "execution": {
     "iopub.execute_input": "2022-03-16T03:04:22.227507Z",
     "iopub.status.busy": "2022-03-16T03:04:22.226234Z",
     "iopub.status.idle": "2022-03-16T03:04:22.244907Z",
     "shell.execute_reply": "2022-03-16T03:04:22.245410Z",
     "shell.execute_reply.started": "2022-03-16T02:11:57.788717Z"
    },
    "papermill": {
     "duration": 0.042667,
     "end_time": "2022-03-16T03:04:22.245736",
     "exception": false,
     "start_time": "2022-03-16T03:04:22.203069",
     "status": "completed"
    },
    "tags": []
   },
   "outputs": [
    {
     "name": "stdout",
     "output_type": "stream",
     "text": [
      "/kaggle/input/MSBD5001/sample_submission.csv\n",
      "/kaggle/input/MSBD5001/train.csv\n",
      "/kaggle/input/MSBD5001/test.csv\n"
     ]
    }
   ],
   "source": [
    "# This Python 3 environment comes with many helpful analytics libraries installed\n",
    "# It is defined by the kaggle/python Docker image: https://github.com/kaggle/docker-python\n",
    "# For example, here's several helpful packages to load\n",
    "\n",
    "import numpy as np # linear algebra\n",
    "import pandas as pd # data processing, CSV file I/O (e.g. pd.read_csv)\n",
    "\n",
    "# Input data files are available in the read-only \"../input/\" directory\n",
    "# For example, running this (by clicking run or pressing Shift+Enter) will list all files under the input directory\n",
    "\n",
    "import os\n",
    "for dirname, _, filenames in os.walk('/kaggle/input'):\n",
    "    for filename in filenames:\n",
    "        print(os.path.join(dirname, filename))\n",
    "\n",
    "# You can write up to 20GB to the current directory (/kaggle/working/) that gets preserved as output when you create a version using \"Save & Run All\" \n",
    "# You can also write temporary files to /kaggle/temp/, but they won't be saved outside of the current session"
   ]
  },
  {
   "cell_type": "code",
   "execution_count": 2,
   "id": "1e52d661",
   "metadata": {
    "execution": {
     "iopub.execute_input": "2022-03-16T03:04:22.288843Z",
     "iopub.status.busy": "2022-03-16T03:04:22.286875Z",
     "iopub.status.idle": "2022-03-16T03:04:22.305959Z",
     "shell.execute_reply": "2022-03-16T03:04:22.306612Z",
     "shell.execute_reply.started": "2022-03-16T02:15:27.478850Z"
    },
    "papermill": {
     "duration": 0.041506,
     "end_time": "2022-03-16T03:04:22.306814",
     "exception": false,
     "start_time": "2022-03-16T03:04:22.265308",
     "status": "completed"
    },
    "tags": []
   },
   "outputs": [],
   "source": [
    "traindf = pd.read_csv('/kaggle/input/MSBD5001/train.csv')\n",
    "testdf = pd.read_csv('/kaggle/input/MSBD5001/test.csv')"
   ]
  },
  {
   "cell_type": "code",
   "execution_count": 3,
   "id": "e953d9ab",
   "metadata": {
    "execution": {
     "iopub.execute_input": "2022-03-16T03:04:22.349453Z",
     "iopub.status.busy": "2022-03-16T03:04:22.348814Z",
     "iopub.status.idle": "2022-03-16T03:04:22.377181Z",
     "shell.execute_reply": "2022-03-16T03:04:22.378246Z",
     "shell.execute_reply.started": "2022-03-16T02:15:38.663899Z"
    },
    "papermill": {
     "duration": 0.051885,
     "end_time": "2022-03-16T03:04:22.378579",
     "exception": false,
     "start_time": "2022-03-16T03:04:22.326694",
     "status": "completed"
    },
    "tags": []
   },
   "outputs": [
    {
     "name": "stdout",
     "output_type": "stream",
     "text": [
      "<class 'pandas.core.frame.DataFrame'>\n",
      "RangeIndex: 59 entries, 0 to 58\n",
      "Data columns (total 12 columns):\n",
      " #   Column                    Non-Null Count  Dtype  \n",
      "---  ------                    --------------  -----  \n",
      " 0   id                        59 non-null     int64  \n",
      " 1   MO HLADR+ MFI (cells/ul)  59 non-null     float64\n",
      " 2   Neu CD64+MFI (cells/ul)   59 non-null     float64\n",
      " 3   CD3+T (cells/ul)          59 non-null     float64\n",
      " 4   CD8+T (cells/ul)          59 non-null     float64\n",
      " 5   CD4+T (cells/ul)          59 non-null     float64\n",
      " 6   NK (cells/ul)             59 non-null     float64\n",
      " 7   CD19+ (cells/ul)          59 non-null     float64\n",
      " 8   CD45+ (cells/ul)          59 non-null     float64\n",
      " 9   Age                       59 non-null     int64  \n",
      " 10  Sex 0M1F                  59 non-null     int64  \n",
      " 11  Mono CD64+MFI (cells/ul)  59 non-null     float64\n",
      "dtypes: float64(9), int64(3)\n",
      "memory usage: 5.7 KB\n"
     ]
    }
   ],
   "source": [
    "testdf.info()"
   ]
  },
  {
   "cell_type": "code",
   "execution_count": 4,
   "id": "2fb06202",
   "metadata": {
    "execution": {
     "iopub.execute_input": "2022-03-16T03:04:22.442497Z",
     "iopub.status.busy": "2022-03-16T03:04:22.441444Z",
     "iopub.status.idle": "2022-03-16T03:04:22.445759Z",
     "shell.execute_reply": "2022-03-16T03:04:22.446592Z",
     "shell.execute_reply.started": "2022-03-16T02:16:02.527033Z"
    },
    "papermill": {
     "duration": 0.043188,
     "end_time": "2022-03-16T03:04:22.446846",
     "exception": false,
     "start_time": "2022-03-16T03:04:22.403658",
     "status": "completed"
    },
    "tags": []
   },
   "outputs": [
    {
     "data": {
      "text/plain": [
       "id                          59\n",
       "MO HLADR+ MFI (cells/ul)    57\n",
       "Neu CD64+MFI (cells/ul)     53\n",
       "CD3+T (cells/ul)            57\n",
       "CD8+T (cells/ul)            57\n",
       "CD4+T (cells/ul)            57\n",
       "NK (cells/ul)               57\n",
       "CD19+ (cells/ul)            57\n",
       "CD45+ (cells/ul)            57\n",
       "Age                         29\n",
       "Sex 0M1F                     2\n",
       "Mono CD64+MFI (cells/ul)    58\n",
       "dtype: int64"
      ]
     },
     "execution_count": 4,
     "metadata": {},
     "output_type": "execute_result"
    }
   ],
   "source": [
    "testdf.nunique()"
   ]
  },
  {
   "cell_type": "code",
   "execution_count": 5,
   "id": "394da9f0",
   "metadata": {
    "execution": {
     "iopub.execute_input": "2022-03-16T03:04:22.502946Z",
     "iopub.status.busy": "2022-03-16T03:04:22.501855Z",
     "iopub.status.idle": "2022-03-16T03:04:22.509976Z",
     "shell.execute_reply": "2022-03-16T03:04:22.510579Z",
     "shell.execute_reply.started": "2022-03-16T02:14:40.760506Z"
    },
    "papermill": {
     "duration": 0.03986,
     "end_time": "2022-03-16T03:04:22.510759",
     "exception": false,
     "start_time": "2022-03-16T03:04:22.470899",
     "status": "completed"
    },
    "tags": []
   },
   "outputs": [
    {
     "name": "stdout",
     "output_type": "stream",
     "text": [
      "<class 'pandas.core.frame.DataFrame'>\n",
      "RangeIndex: 87 entries, 0 to 86\n",
      "Data columns (total 13 columns):\n",
      " #   Column                    Non-Null Count  Dtype  \n",
      "---  ------                    --------------  -----  \n",
      " 0   id                        87 non-null     int64  \n",
      " 1   MO HLADR+ MFI (cells/ul)  86 non-null     float64\n",
      " 2   Neu CD64+MFI (cells/ul)   86 non-null     float64\n",
      " 3   CD3+T (cells/ul)          87 non-null     float64\n",
      " 4   CD8+T (cells/ul)          87 non-null     float64\n",
      " 5   CD4+T (cells/ul)          87 non-null     float64\n",
      " 6   NK (cells/ul)             87 non-null     float64\n",
      " 7   CD19+ (cells/ul)          87 non-null     float64\n",
      " 8   CD45+ (cells/ul)          87 non-null     float64\n",
      " 9   Age                       87 non-null     int64  \n",
      " 10  Sex 0M1F                  87 non-null     int64  \n",
      " 11  Mono CD64+MFI (cells/ul)  86 non-null     float64\n",
      " 12  label                     87 non-null     int64  \n",
      "dtypes: float64(9), int64(4)\n",
      "memory usage: 9.0 KB\n"
     ]
    }
   ],
   "source": [
    "traindf.info()"
   ]
  },
  {
   "cell_type": "code",
   "execution_count": 6,
   "id": "f28d63a2",
   "metadata": {
    "execution": {
     "iopub.execute_input": "2022-03-16T03:04:22.557316Z",
     "iopub.status.busy": "2022-03-16T03:04:22.554593Z",
     "iopub.status.idle": "2022-03-16T03:04:22.562656Z",
     "shell.execute_reply": "2022-03-16T03:04:22.563206Z",
     "shell.execute_reply.started": "2022-03-16T02:14:51.776607Z"
    },
    "papermill": {
     "duration": 0.032069,
     "end_time": "2022-03-16T03:04:22.563387",
     "exception": false,
     "start_time": "2022-03-16T03:04:22.531318",
     "status": "completed"
    },
    "tags": []
   },
   "outputs": [
    {
     "data": {
      "text/plain": [
       "id                          87\n",
       "MO HLADR+ MFI (cells/ul)    84\n",
       "Neu CD64+MFI (cells/ul)     71\n",
       "CD3+T (cells/ul)            85\n",
       "CD8+T (cells/ul)            85\n",
       "CD4+T (cells/ul)            85\n",
       "NK (cells/ul)               85\n",
       "CD19+ (cells/ul)            86\n",
       "CD45+ (cells/ul)            85\n",
       "Age                         34\n",
       "Sex 0M1F                     2\n",
       "Mono CD64+MFI (cells/ul)    83\n",
       "label                        2\n",
       "dtype: int64"
      ]
     },
     "execution_count": 6,
     "metadata": {},
     "output_type": "execute_result"
    }
   ],
   "source": [
    "traindf.nunique()"
   ]
  },
  {
   "cell_type": "code",
   "execution_count": 7,
   "id": "8467e82b",
   "metadata": {
    "execution": {
     "iopub.execute_input": "2022-03-16T03:04:22.608377Z",
     "iopub.status.busy": "2022-03-16T03:04:22.607733Z",
     "iopub.status.idle": "2022-03-16T03:04:22.611373Z",
     "shell.execute_reply": "2022-03-16T03:04:22.611958Z",
     "shell.execute_reply.started": "2022-03-16T02:44:26.278761Z"
    },
    "papermill": {
     "duration": 0.027316,
     "end_time": "2022-03-16T03:04:22.612121",
     "exception": false,
     "start_time": "2022-03-16T03:04:22.584805",
     "status": "completed"
    },
    "tags": []
   },
   "outputs": [],
   "source": [
    "traindfY = traindf.pop('label')"
   ]
  },
  {
   "cell_type": "code",
   "execution_count": 8,
   "id": "bb56ec4c",
   "metadata": {
    "execution": {
     "iopub.execute_input": "2022-03-16T03:04:22.661329Z",
     "iopub.status.busy": "2022-03-16T03:04:22.660678Z",
     "iopub.status.idle": "2022-03-16T03:04:22.663369Z",
     "shell.execute_reply": "2022-03-16T03:04:22.663939Z",
     "shell.execute_reply.started": "2022-03-16T02:44:56.811822Z"
    },
    "papermill": {
     "duration": 0.031592,
     "end_time": "2022-03-16T03:04:22.664112",
     "exception": false,
     "start_time": "2022-03-16T03:04:22.632520",
     "status": "completed"
    },
    "tags": []
   },
   "outputs": [
    {
     "data": {
      "text/plain": [
       "0      0\n",
       "1      1\n",
       "2      2\n",
       "3      3\n",
       "4      4\n",
       "      ..\n",
       "82    82\n",
       "83    83\n",
       "84    84\n",
       "85    85\n",
       "86    86\n",
       "Name: id, Length: 87, dtype: int64"
      ]
     },
     "execution_count": 8,
     "metadata": {},
     "output_type": "execute_result"
    }
   ],
   "source": [
    "traindf.pop('id')"
   ]
  },
  {
   "cell_type": "code",
   "execution_count": 9,
   "id": "5564dd39",
   "metadata": {
    "execution": {
     "iopub.execute_input": "2022-03-16T03:04:22.709226Z",
     "iopub.status.busy": "2022-03-16T03:04:22.708537Z",
     "iopub.status.idle": "2022-03-16T03:04:22.736124Z",
     "shell.execute_reply": "2022-03-16T03:04:22.736696Z",
     "shell.execute_reply.started": "2022-03-16T02:45:02.713166Z"
    },
    "papermill": {
     "duration": 0.051957,
     "end_time": "2022-03-16T03:04:22.736883",
     "exception": false,
     "start_time": "2022-03-16T03:04:22.684926",
     "status": "completed"
    },
    "tags": []
   },
   "outputs": [
    {
     "data": {
      "text/html": [
       "<div>\n",
       "<style scoped>\n",
       "    .dataframe tbody tr th:only-of-type {\n",
       "        vertical-align: middle;\n",
       "    }\n",
       "\n",
       "    .dataframe tbody tr th {\n",
       "        vertical-align: top;\n",
       "    }\n",
       "\n",
       "    .dataframe thead th {\n",
       "        text-align: right;\n",
       "    }\n",
       "</style>\n",
       "<table border=\"1\" class=\"dataframe\">\n",
       "  <thead>\n",
       "    <tr style=\"text-align: right;\">\n",
       "      <th></th>\n",
       "      <th>MO HLADR+ MFI (cells/ul)</th>\n",
       "      <th>Neu CD64+MFI (cells/ul)</th>\n",
       "      <th>CD3+T (cells/ul)</th>\n",
       "      <th>CD8+T (cells/ul)</th>\n",
       "      <th>CD4+T (cells/ul)</th>\n",
       "      <th>NK (cells/ul)</th>\n",
       "      <th>CD19+ (cells/ul)</th>\n",
       "      <th>CD45+ (cells/ul)</th>\n",
       "      <th>Age</th>\n",
       "      <th>Sex 0M1F</th>\n",
       "      <th>Mono CD64+MFI (cells/ul)</th>\n",
       "    </tr>\n",
       "  </thead>\n",
       "  <tbody>\n",
       "    <tr>\n",
       "      <th>0</th>\n",
       "      <td>3556.0</td>\n",
       "      <td>2489.0</td>\n",
       "      <td>265.19</td>\n",
       "      <td>77.53</td>\n",
       "      <td>176.55</td>\n",
       "      <td>0.00</td>\n",
       "      <td>4.20</td>\n",
       "      <td>307.91</td>\n",
       "      <td>52</td>\n",
       "      <td>0</td>\n",
       "      <td>7515.0</td>\n",
       "    </tr>\n",
       "    <tr>\n",
       "      <th>1</th>\n",
       "      <td>1906.0</td>\n",
       "      <td>134.0</td>\n",
       "      <td>1442.61</td>\n",
       "      <td>551.90</td>\n",
       "      <td>876.07</td>\n",
       "      <td>112.10</td>\n",
       "      <td>168.15</td>\n",
       "      <td>1735.48</td>\n",
       "      <td>20</td>\n",
       "      <td>1</td>\n",
       "      <td>1756.0</td>\n",
       "    </tr>\n",
       "    <tr>\n",
       "      <th>2</th>\n",
       "      <td>1586.0</td>\n",
       "      <td>71.0</td>\n",
       "      <td>1332.74</td>\n",
       "      <td>684.20</td>\n",
       "      <td>655.26</td>\n",
       "      <td>244.95</td>\n",
       "      <td>216.52</td>\n",
       "      <td>1820.04</td>\n",
       "      <td>28</td>\n",
       "      <td>1</td>\n",
       "      <td>1311.0</td>\n",
       "    </tr>\n",
       "    <tr>\n",
       "      <th>3</th>\n",
       "      <td>683.0</td>\n",
       "      <td>94.0</td>\n",
       "      <td>419.23</td>\n",
       "      <td>255.80</td>\n",
       "      <td>162.17</td>\n",
       "      <td>72.05</td>\n",
       "      <td>44.68</td>\n",
       "      <td>538.22</td>\n",
       "      <td>55</td>\n",
       "      <td>1</td>\n",
       "      <td>1443.0</td>\n",
       "    </tr>\n",
       "    <tr>\n",
       "      <th>4</th>\n",
       "      <td>1032.0</td>\n",
       "      <td>71.0</td>\n",
       "      <td>1102.72</td>\n",
       "      <td>480.27</td>\n",
       "      <td>625.30</td>\n",
       "      <td>188.78</td>\n",
       "      <td>130.77</td>\n",
       "      <td>1427.97</td>\n",
       "      <td>28</td>\n",
       "      <td>1</td>\n",
       "      <td>1542.0</td>\n",
       "    </tr>\n",
       "    <tr>\n",
       "      <th>...</th>\n",
       "      <td>...</td>\n",
       "      <td>...</td>\n",
       "      <td>...</td>\n",
       "      <td>...</td>\n",
       "      <td>...</td>\n",
       "      <td>...</td>\n",
       "      <td>...</td>\n",
       "      <td>...</td>\n",
       "      <td>...</td>\n",
       "      <td>...</td>\n",
       "      <td>...</td>\n",
       "    </tr>\n",
       "    <tr>\n",
       "      <th>82</th>\n",
       "      <td>626.0</td>\n",
       "      <td>68.0</td>\n",
       "      <td>1771.57</td>\n",
       "      <td>666.99</td>\n",
       "      <td>1117.48</td>\n",
       "      <td>360.21</td>\n",
       "      <td>118.84</td>\n",
       "      <td>2306.82</td>\n",
       "      <td>42</td>\n",
       "      <td>1</td>\n",
       "      <td>1521.0</td>\n",
       "    </tr>\n",
       "    <tr>\n",
       "      <th>83</th>\n",
       "      <td>1237.0</td>\n",
       "      <td>71.0</td>\n",
       "      <td>1348.53</td>\n",
       "      <td>428.09</td>\n",
       "      <td>924.69</td>\n",
       "      <td>120.02</td>\n",
       "      <td>48.67</td>\n",
       "      <td>1524.78</td>\n",
       "      <td>56</td>\n",
       "      <td>0</td>\n",
       "      <td>1345.0</td>\n",
       "    </tr>\n",
       "    <tr>\n",
       "      <th>84</th>\n",
       "      <td>634.0</td>\n",
       "      <td>1002.0</td>\n",
       "      <td>1300.00</td>\n",
       "      <td>558.00</td>\n",
       "      <td>724.00</td>\n",
       "      <td>67.00</td>\n",
       "      <td>105.00</td>\n",
       "      <td>1484.26</td>\n",
       "      <td>34</td>\n",
       "      <td>0</td>\n",
       "      <td>2926.0</td>\n",
       "    </tr>\n",
       "    <tr>\n",
       "      <th>85</th>\n",
       "      <td>112.0</td>\n",
       "      <td>884.0</td>\n",
       "      <td>942.83</td>\n",
       "      <td>378.49</td>\n",
       "      <td>567.06</td>\n",
       "      <td>116.77</td>\n",
       "      <td>31.81</td>\n",
       "      <td>1104.59</td>\n",
       "      <td>33</td>\n",
       "      <td>1</td>\n",
       "      <td>2352.0</td>\n",
       "    </tr>\n",
       "    <tr>\n",
       "      <th>86</th>\n",
       "      <td>195.0</td>\n",
       "      <td>213.0</td>\n",
       "      <td>724.00</td>\n",
       "      <td>364.00</td>\n",
       "      <td>361.00</td>\n",
       "      <td>18.00</td>\n",
       "      <td>155.00</td>\n",
       "      <td>897.00</td>\n",
       "      <td>19</td>\n",
       "      <td>1</td>\n",
       "      <td>2445.0</td>\n",
       "    </tr>\n",
       "  </tbody>\n",
       "</table>\n",
       "<p>87 rows × 11 columns</p>\n",
       "</div>"
      ],
      "text/plain": [
       "    MO HLADR+ MFI (cells/ul)  Neu CD64+MFI (cells/ul)  CD3+T (cells/ul)  \\\n",
       "0                     3556.0                   2489.0            265.19   \n",
       "1                     1906.0                    134.0           1442.61   \n",
       "2                     1586.0                     71.0           1332.74   \n",
       "3                      683.0                     94.0            419.23   \n",
       "4                     1032.0                     71.0           1102.72   \n",
       "..                       ...                      ...               ...   \n",
       "82                     626.0                     68.0           1771.57   \n",
       "83                    1237.0                     71.0           1348.53   \n",
       "84                     634.0                   1002.0           1300.00   \n",
       "85                     112.0                    884.0            942.83   \n",
       "86                     195.0                    213.0            724.00   \n",
       "\n",
       "    CD8+T (cells/ul)  CD4+T (cells/ul)  NK (cells/ul)  CD19+ (cells/ul)  \\\n",
       "0              77.53            176.55           0.00              4.20   \n",
       "1             551.90            876.07         112.10            168.15   \n",
       "2             684.20            655.26         244.95            216.52   \n",
       "3             255.80            162.17          72.05             44.68   \n",
       "4             480.27            625.30         188.78            130.77   \n",
       "..               ...               ...            ...               ...   \n",
       "82            666.99           1117.48         360.21            118.84   \n",
       "83            428.09            924.69         120.02             48.67   \n",
       "84            558.00            724.00          67.00            105.00   \n",
       "85            378.49            567.06         116.77             31.81   \n",
       "86            364.00            361.00          18.00            155.00   \n",
       "\n",
       "    CD45+ (cells/ul)  Age  Sex 0M1F  Mono CD64+MFI (cells/ul)  \n",
       "0             307.91   52         0                    7515.0  \n",
       "1            1735.48   20         1                    1756.0  \n",
       "2            1820.04   28         1                    1311.0  \n",
       "3             538.22   55         1                    1443.0  \n",
       "4            1427.97   28         1                    1542.0  \n",
       "..               ...  ...       ...                       ...  \n",
       "82           2306.82   42         1                    1521.0  \n",
       "83           1524.78   56         0                    1345.0  \n",
       "84           1484.26   34         0                    2926.0  \n",
       "85           1104.59   33         1                    2352.0  \n",
       "86            897.00   19         1                    2445.0  \n",
       "\n",
       "[87 rows x 11 columns]"
      ]
     },
     "execution_count": 9,
     "metadata": {},
     "output_type": "execute_result"
    }
   ],
   "source": [
    "traindf"
   ]
  },
  {
   "cell_type": "code",
   "execution_count": 10,
   "id": "8116b97e",
   "metadata": {
    "execution": {
     "iopub.execute_input": "2022-03-16T03:04:22.784795Z",
     "iopub.status.busy": "2022-03-16T03:04:22.784118Z",
     "iopub.status.idle": "2022-03-16T03:04:23.882242Z",
     "shell.execute_reply": "2022-03-16T03:04:23.883496Z",
     "shell.execute_reply.started": "2022-03-16T02:39:35.238456Z"
    },
    "papermill": {
     "duration": 1.124648,
     "end_time": "2022-03-16T03:04:23.883796",
     "exception": false,
     "start_time": "2022-03-16T03:04:22.759148",
     "status": "completed"
    },
    "tags": []
   },
   "outputs": [],
   "source": [
    "from sklearn.impute import KNNImputer\n",
    "imputer = KNNImputer(n_neighbors=2, weights=\"uniform\")\n",
    "#imputer.fit_transform(traindf)"
   ]
  },
  {
   "cell_type": "code",
   "execution_count": 11,
   "id": "ac8ade72",
   "metadata": {
    "execution": {
     "iopub.execute_input": "2022-03-16T03:04:23.950631Z",
     "iopub.status.busy": "2022-03-16T03:04:23.949605Z",
     "iopub.status.idle": "2022-03-16T03:04:24.114571Z",
     "shell.execute_reply": "2022-03-16T03:04:24.115106Z",
     "shell.execute_reply.started": "2022-03-16T02:53:50.052030Z"
    },
    "papermill": {
     "duration": 0.194976,
     "end_time": "2022-03-16T03:04:24.115301",
     "exception": false,
     "start_time": "2022-03-16T03:04:23.920325",
     "status": "completed"
    },
    "tags": []
   },
   "outputs": [
    {
     "data": {
      "text/plain": [
       "1.0"
      ]
     },
     "execution_count": 11,
     "metadata": {},
     "output_type": "execute_result"
    }
   ],
   "source": [
    "from sklearn.ensemble import GradientBoostingClassifier\n",
    "from sklearn.pipeline import make_pipeline\n",
    "clf = make_pipeline(imputer, GradientBoostingClassifier(n_estimators=100, learning_rate=1.0,max_depth=2, random_state=0))\n",
    "clf = clf.fit(traindf, traindfY)\n",
    "clf.score(traindf, traindfY)"
   ]
  },
  {
   "cell_type": "code",
   "execution_count": 12,
   "id": "d82d07b6",
   "metadata": {
    "execution": {
     "iopub.execute_input": "2022-03-16T03:04:24.167833Z",
     "iopub.status.busy": "2022-03-16T03:04:24.167151Z",
     "iopub.status.idle": "2022-03-16T03:04:24.168986Z",
     "shell.execute_reply": "2022-03-16T03:04:24.169608Z",
     "shell.execute_reply.started": "2022-03-16T02:57:59.532456Z"
    },
    "papermill": {
     "duration": 0.031475,
     "end_time": "2022-03-16T03:04:24.169776",
     "exception": false,
     "start_time": "2022-03-16T03:04:24.138301",
     "status": "completed"
    },
    "tags": []
   },
   "outputs": [],
   "source": [
    "testX = testdf.drop('id',axis = 1)"
   ]
  },
  {
   "cell_type": "code",
   "execution_count": 13,
   "id": "0ae2bb8e",
   "metadata": {
    "execution": {
     "iopub.execute_input": "2022-03-16T03:04:24.223116Z",
     "iopub.status.busy": "2022-03-16T03:04:24.222439Z",
     "iopub.status.idle": "2022-03-16T03:04:24.225706Z",
     "shell.execute_reply": "2022-03-16T03:04:24.225022Z",
     "shell.execute_reply.started": "2022-03-16T02:59:32.820911Z"
    },
    "papermill": {
     "duration": 0.033694,
     "end_time": "2022-03-16T03:04:24.225853",
     "exception": false,
     "start_time": "2022-03-16T03:04:24.192159",
     "status": "completed"
    },
    "tags": []
   },
   "outputs": [],
   "source": [
    "predict = clf.predict(testX)"
   ]
  },
  {
   "cell_type": "code",
   "execution_count": 14,
   "id": "29e92367",
   "metadata": {
    "execution": {
     "iopub.execute_input": "2022-03-16T03:04:24.277894Z",
     "iopub.status.busy": "2022-03-16T03:04:24.277211Z",
     "iopub.status.idle": "2022-03-16T03:04:24.281014Z",
     "shell.execute_reply": "2022-03-16T03:04:24.280444Z",
     "shell.execute_reply.started": "2022-03-16T03:01:41.695331Z"
    },
    "papermill": {
     "duration": 0.032871,
     "end_time": "2022-03-16T03:04:24.281175",
     "exception": false,
     "start_time": "2022-03-16T03:04:24.248304",
     "status": "completed"
    },
    "tags": []
   },
   "outputs": [],
   "source": [
    "result = pd.DataFrame()\n",
    "result['id'] = np.array(list(range(len(predict))))\n",
    "result['label'] = predict\n"
   ]
  },
  {
   "cell_type": "code",
   "execution_count": 15,
   "id": "fcad3e1f",
   "metadata": {
    "execution": {
     "iopub.execute_input": "2022-03-16T03:04:24.332274Z",
     "iopub.status.busy": "2022-03-16T03:04:24.331572Z",
     "iopub.status.idle": "2022-03-16T03:04:24.334166Z",
     "shell.execute_reply": "2022-03-16T03:04:24.334809Z",
     "shell.execute_reply.started": "2022-03-16T03:02:00.231392Z"
    },
    "papermill": {
     "duration": 0.030866,
     "end_time": "2022-03-16T03:04:24.334975",
     "exception": false,
     "start_time": "2022-03-16T03:04:24.304109",
     "status": "completed"
    },
    "tags": []
   },
   "outputs": [
    {
     "data": {
      "text/plain": [
       "array([0, 0, 0, 0, 0, 0, 0, 0, 0, 0, 0, 1, 0, 0, 0, 0, 1, 0, 0, 0, 1, 1,\n",
       "       1, 0, 1, 1, 1, 0, 1, 0, 1, 1, 0, 1, 0, 0, 0, 1, 1, 0, 1, 0, 0, 0,\n",
       "       0, 0, 0, 1, 0, 0, 0, 0, 0, 0, 1, 0, 0, 0, 1])"
      ]
     },
     "execution_count": 15,
     "metadata": {},
     "output_type": "execute_result"
    }
   ],
   "source": [
    "predict"
   ]
  },
  {
   "cell_type": "code",
   "execution_count": 16,
   "id": "c224361b",
   "metadata": {
    "execution": {
     "iopub.execute_input": "2022-03-16T03:04:24.386262Z",
     "iopub.status.busy": "2022-03-16T03:04:24.385361Z",
     "iopub.status.idle": "2022-03-16T03:04:24.390691Z",
     "shell.execute_reply": "2022-03-16T03:04:24.391404Z",
     "shell.execute_reply.started": "2022-03-16T03:03:32.418820Z"
    },
    "papermill": {
     "duration": 0.034226,
     "end_time": "2022-03-16T03:04:24.391682",
     "exception": false,
     "start_time": "2022-03-16T03:04:24.357456",
     "status": "completed"
    },
    "tags": []
   },
   "outputs": [],
   "source": [
    "result.to_csv('result.csv',index=False)"
   ]
  }
 ],
 "metadata": {
  "kernelspec": {
   "display_name": "Python 3",
   "language": "python",
   "name": "python3"
  },
  "language_info": {
   "codemirror_mode": {
    "name": "ipython",
    "version": 3
   },
   "file_extension": ".py",
   "mimetype": "text/x-python",
   "name": "python",
   "nbconvert_exporter": "python",
   "pygments_lexer": "ipython3",
   "version": "3.7.12"
  },
  "papermill": {
   "default_parameters": {},
   "duration": 12.385685,
   "end_time": "2022-03-16T03:04:25.127519",
   "environment_variables": {},
   "exception": null,
   "input_path": "__notebook__.ipynb",
   "output_path": "__notebook__.ipynb",
   "parameters": {},
   "start_time": "2022-03-16T03:04:12.741834",
   "version": "2.3.3"
  }
 },
 "nbformat": 4,
 "nbformat_minor": 5
}
